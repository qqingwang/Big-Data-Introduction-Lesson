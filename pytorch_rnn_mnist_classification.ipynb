{
 "cells": [
  {
   "cell_type": "markdown",
   "metadata": {},
   "source": [
    "# RNN for Mnist handwritten numeral recognition"
   ]
  },
  {
   "cell_type": "code",
   "execution_count": 1,
   "metadata": {},
   "outputs": [],
   "source": [
    "import torch\n",
    "import torch.utils.data as Data\n",
    "import torchvision     \n",
    "import torch.nn as nn\n",
    "from torch.autograd import Variable\n",
    "\n",
    "# torch.manual_seed(1)   "
   ]
  },
  {
   "cell_type": "markdown",
   "metadata": {},
   "source": [
    "### 1.Mnist 数据集 "
   ]
  },
  {
   "cell_type": "code",
   "execution_count": 2,
   "metadata": {},
   "outputs": [
    {
     "name": "stdout",
     "output_type": "stream",
     "text": [
      "#train_data: 60000\n",
      "#test_data: 10000\n"
     ]
    }
   ],
   "source": [
    "DOWNLOAD_MNIST = False  \n",
    "'''Mnist 手写数字数据集'''\n",
    "\n",
    "# 训练数据\n",
    "train_data = torchvision.datasets.MNIST(\n",
    "    root=\"./mnist/\",   \n",
    "    train=True,  # this is training data\n",
    "    transform=torchvision.transforms.ToTensor(), #数据转换为torch.FloatTensor (C x H x W)\n",
    "    download=DOWNLOAD_MNIST        \n",
    ")\n",
    "\n",
    "# 测试数据\n",
    "test_data = torchvision.datasets.MNIST(root=\"./mnist/\", \n",
    "                                       train=False)\n",
    " \n",
    "print('#train_data:', len(train_data))\n",
    "print('#test_data:', len(test_data))"
   ]
  },
  {
   "cell_type": "markdown",
   "metadata": {},
   "source": [
    "### 2. 构造 Dataloader "
   ]
  },
  {
   "cell_type": "code",
   "execution_count": null,
   "metadata": {},
   "outputs": [],
   "source": [
    "# batch, 50samples, 1 channel, 28x28 (50, 1, 28, 28)\n",
    "train_loader = Data.DataLoader(dataset=train_data, \n",
    "                               batch_size=64, \n",
    "                               shuffle=True)\n",
    " \n",
    "# 测试前2000个\n",
    "test_x = torch.unsqueeze(test_data.test_data, dim=1).type(torch.FloatTensor)[:2000]/255.   # shape from (2000, 28, 28) to (2000, 1, 28, 28), value in range(0,1)\n",
    "test_y = test_data.test_labels[:2000]"
   ]
  },
  {
   "cell_type": "code",
   "execution_count": 4,
   "metadata": {},
   "outputs": [
    {
     "data": {
      "image/jpeg": "[encoded data removed]",
      "text/plain": [
       "<IPython.core.display.Image object>"
      ]
     },
     "execution_count": 4,
     "metadata": {
      "image/jpeg": {
       "width": 800
      }
     },
     "output_type": "execute_result"
    }
   ],
   "source": [
    "from IPython.display import Image\n",
    "Image(\"LSTM.jpg\", width=800)"
   ]
  },
  {
   "cell_type": "code",
   "execution_count": 5,
   "metadata": {},
   "outputs": [],
   "source": [
    "class RNN(nn.Module):\n",
    "    def __init__(self):\n",
    "        super(RNN, self).__init__()\n",
    "\n",
    "        self.rnn = nn.LSTM(         # if use nn.RNN(), it hardly learns\n",
    "            input_size=28,\n",
    "            hidden_size=64,         # rnn hidden unit\n",
    "            num_layers=1,           # number of rnn layer\n",
    "            batch_first=True,       # input & output will has batch size as 1s dimension. e.g. (batch, time_step, input_size)\n",
    "        )\n",
    "\n",
    "        self.out = nn.Linear(64, 10)\n",
    "\n",
    "    def forward(self, x):\n",
    "        # x shape (batch, time_step, input_size)\n",
    "        # r_out shape (batch, time_step, output_size)\n",
    "        # h_n shape (n_layers, batch, hidden_size)\n",
    "        # h_c shape (n_layers, batch, hidden_size)\n",
    "        r_out, (h_n, h_c) = self.rnn(x, None)   # None represents zero initial hidden state\n",
    "\n",
    "        # choose r_out at the last time step\n",
    "        out = self.out(r_out[:, -1, :])\n",
    "        return out"
   ]
  },
  {
   "cell_type": "markdown",
   "metadata": {},
   "source": [
    "### 4. 训练模型 "
   ]
  },
  {
   "cell_type": "code",
   "execution_count": 6,
   "metadata": {},
   "outputs": [
    {
     "name": "stdout",
     "output_type": "stream",
     "text": [
      "============================== Model Architecture ==============================\n",
      "RNN(\n",
      "  (rnn): LSTM(28, 64, batch_first=True)\n",
      "  (out): Linear(in_features=64, out_features=10, bias=True)\n",
      ")\n"
     ]
    }
   ],
   "source": [
    "learning_rate = 0.001\n",
    "epochs = 1\n",
    "\n",
    "model = RNN()\n",
    "print('{} Model Architecture {}'.format('='*30, '='*30))\n",
    "print(model)  \n",
    "\n",
    "optimizer = torch.optim.Adam(model.parameters(), lr=learning_rate)   # optimize all cnn parameters\n",
    "loss_func = nn.CrossEntropyLoss()   # the target label is not one-hotted"
   ]
  },
  {
   "cell_type": "code",
   "execution_count": 18,
   "metadata": {},
   "outputs": [
    {
     "name": "stdout",
     "output_type": "stream",
     "text": [
      "============================== Training and Testing ==============================\n",
      "Epoch:  0 | train loss: 0.1132 | test accuracy: 0.93\n",
      "Epoch:  0 | train loss: 0.1241 | test accuracy: 0.94\n",
      "Epoch:  0 | train loss: 0.2704 | test accuracy: 0.93\n",
      "Epoch:  0 | train loss: 0.1834 | test accuracy: 0.93\n",
      "Epoch:  0 | train loss: 0.0521 | test accuracy: 0.94\n",
      "Epoch:  0 | train loss: 0.2039 | test accuracy: 0.93\n",
      "Epoch:  0 | train loss: 0.1616 | test accuracy: 0.94\n",
      "Epoch:  0 | train loss: 0.1974 | test accuracy: 0.95\n",
      "Epoch:  0 | train loss: 0.1073 | test accuracy: 0.94\n",
      "Epoch:  0 | train loss: 0.2147 | test accuracy: 0.95\n"
     ]
    }
   ],
   "source": [
    "# training and testing\n",
    "print('{} Training and Testing {}'.format('='*30, '='*30))\n",
    "for epoch in range(epochs):\n",
    "    for step, (batch_x, batch_y) in enumerate(train_loader):\n",
    "        batch_x = batch_x.view(-1, 28, 28)              # reshape x to (batch, time_step, input_size)\n",
    "        output = model(batch_x)                         # rnn output\n",
    "        loss = loss_func(output, batch_y)               # cross entropy loss\n",
    "        optimizer.zero_grad()                           # clear gradients for this training step\n",
    "        loss.backward()                                 # backpropagation, compute gradients\n",
    "        optimizer.step()                                # apply gradients\n",
    "  \n",
    "        if step % 100 == 0:\n",
    "            test_output = model(test_x.view(-1, 28, 28))                   # (samples, time_step, input_size)\n",
    "            pred_y = torch.max(test_output, 1)[1].data.numpy()\n",
    "            accuracy = float((pred_y == test_y.data.numpy()).astype(int).sum())/float(test_y.size(0))\n",
    "            print('Epoch: ', epoch, '| train loss: %.4f' % loss.data.numpy(), '| test accuracy: %.2f' % accuracy)\n",
    "            \n",
    "print('{} Finish {}'.format('='*35, '='*35))"
   ]
  },
  {
   "cell_type": "markdown",
   "metadata": {},
   "source": [
    "### 5. 测试 & 可视化"
   ]
  },
  {
   "cell_type": "code",
   "execution_count": 23,
   "metadata": {},
   "outputs": [
    {
     "name": "stdout",
     "output_type": "stream",
     "text": [
      "#predictions\t [7 2 1 0 4 1 4 9 5 9]\n",
      "#ground truth\t [7 2 1 0 4 1 4 9 5 9]\n"
     ]
    }
   ],
   "source": [
    "test_output = model(test_x.view(-1, 28, 28)) \n",
    "test_x_output = test_x.view(-1, 28*28) \n",
    "pred_y = torch.max(test_output, 1)[1].data.numpy()\n",
    "\n",
    "print('#predictions\\t', pred_y[:10])\n",
    "print('#ground truth\\t', test_y[:10].numpy())"
   ]
  },
  {
   "cell_type": "code",
   "execution_count": 26,
   "metadata": {},
   "outputs": [],
   "source": [
    "from sklearn.manifold import TSNE\n",
    "# 降维\n",
    "tsne = TSNE(perplexity=30, \n",
    "            n_components=2, \n",
    "            init='pca', \n",
    "            n_iter=1000)\n",
    "\n",
    "plot_only = 500\n",
    "low_dim_embs = tsne.fit_transform(test_x_output.data.numpy()[:plot_only,:])\n",
    "labels = test_y.numpy()[:plot_only]\n",
    "\n",
    "print('#low_dim_embs.shape:', low_dim_embs.shape)\n",
    "print('#labels.shape:', labels.shape)"
   ]
  },
  {
   "cell_type": "code",
   "execution_count": 27,
   "metadata": {},
   "outputs": [
    {
     "data": {
      "image/png": "[encoded data removed]",
      "text/plain": [
       "<Figure size 432x288 with 1 Axes>"
      ]
     },
     "metadata": {
      "needs_background": "light"
     },
     "output_type": "display_data"
    }
   ],
   "source": [
    "import matplotlib.pyplot as plt\n",
    "from matplotlib import cm\n",
    "\n",
    "plt.cla()\n",
    "X, Y = low_dim_embs[:, 0], low_dim_embs[:, 1]\n",
    "for x, y, s in zip(X, Y, labels):\n",
    "    c = cm.rainbow(int(255*s/9)); \n",
    "    plt.text(x, y, s, backgroundcolor=c, fontsize=9)\n",
    "\n",
    "plt.xlim(X.min(), X.max()) \n",
    "plt.ylim(Y.min(), Y.max())\n",
    "plt.title('RNN-Visualize image with label')\n",
    "plt.show()\n",
    "plt.pause(0.01)"
   ]
  },
  {
   "cell_type": "code",
   "execution_count": null,
   "metadata": {},
   "outputs": [],
   "source": []
  }
 ],
 "metadata": {
  "kernelspec": {
   "display_name": "Python 3",
   "language": "python",
   "name": "python3"
  },
  "language_info": {
   "codemirror_mode": {
    "name": "ipython",
    "version": 3
   },
   "file_extension": ".py",
   "mimetype": "text/x-python",
   "name": "python",
   "nbconvert_exporter": "python",
   "pygments_lexer": "ipython3",
   "version": "3.7.4"
  }
 },
 "nbformat": 4,
 "nbformat_minor": 4
}
