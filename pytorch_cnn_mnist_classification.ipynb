{
 "cells": [
  {
   "cell_type": "markdown",
   "metadata": {},
   "source": [
    "# CNN for Mnist handwritten numeral recognition"
   ]
  },
  {
   "cell_type": "code",
   "execution_count": 4,
   "metadata": {},
   "outputs": [],
   "source": [
    "import torch\n",
    "import torchvision     \n",
    "import torch.nn as nn\n",
    "import torch.utils.data as Data\n",
    "from torch.autograd import Variable\n",
    "\n",
    "import matplotlib.pyplot as plt\n",
    "\n",
    "# torch.manual_seed(1)   "
   ]
  },
  {
   "cell_type": "markdown",
   "metadata": {},
   "source": [
    "### 1.Mnist 数据集 "
   ]
  },
  {
   "cell_type": "code",
   "execution_count": 7,
   "metadata": {},
   "outputs": [
    {
     "name": "stdout",
     "output_type": "stream",
     "text": [
      "#train_data: 60000\n",
      "#test_data: 10000\n",
      "torch.Size([60000, 28, 28])\n",
      "torch.Size([60000])\n"
     ]
    }
   ],
   "source": [
    "DOWNLOAD_MNIST = False  \n",
    "'''Mnist 手写数字数据集'''\n",
    "\n",
    "# 训练数据\n",
    "train_data = torchvision.datasets.MNIST(\n",
    "    root=\"./mnist/\",   \n",
    "    train=True,  # this is training data\n",
    "    transform=torchvision.transforms.ToTensor(), #数据转换为torch.FloatTensor (C x H x W)\n",
    "    download=DOWNLOAD_MNIST        \n",
    ")\n",
    "\n",
    "# 测试数据\n",
    "test_data = torchvision.datasets.MNIST(root=\"./mnist/\", \n",
    "                                       train=False)\n",
    " \n",
    "print('#train_data:', len(train_data))\n",
    "print('#test_data:', len(test_data))\n",
    "\n",
    "print(train_data.train_data.size())     # (60000, 28, 28)\n",
    "print(train_data.train_labels.size())   # (60000)"
   ]
  },
  {
   "cell_type": "code",
   "execution_count": 21,
   "metadata": {},
   "outputs": [
    {
     "data": {
      "image/png": "[encoded data removed]",
      "text/plain": [
       "<Figure size 432x288 with 1 Axes>"
      ]
     },
     "metadata": {
      "needs_background": "light"
     },
     "output_type": "display_data"
    },
    {
     "data": {
      "image/png": "[encoded data removed]",
      "text/plain": [
       "<Figure size 432x288 with 1 Axes>"
      ]
     },
     "metadata": {
      "needs_background": "light"
     },
     "output_type": "display_data"
    }
   ],
   "source": [
    "# plot one example\n",
    "for i in range(2):\n",
    "    plt.imshow(train_data.train_data[i].numpy(), cmap='gray')\n",
    "    plt.title('%i' % train_data.train_labels[i])\n",
    "    plt.show()"
   ]
  },
  {
   "cell_type": "markdown",
   "metadata": {},
   "source": [
    "### 2. 构造 Dataloader "
   ]
  },
  {
   "cell_type": "code",
   "execution_count": 23,
   "metadata": {},
   "outputs": [],
   "source": [
    "# batch, 50samples, 1 channel, 28x28 (50, 1, 28, 28)\n",
    "train_loader = Data.DataLoader(dataset=train_data, \n",
    "                               batch_size=52, \n",
    "                               shuffle=True)\n",
    " \n",
    "# 测试前2000个\n",
    "test_x = torch.unsqueeze(test_data.test_data, dim=1).type(torch.FloatTensor)[:2000]/255.   # shape from (2000, 28, 28) to (2000, 1, 28, 28), value in range(0,1)\n",
    "test_y = test_data.test_labels[:2000]"
   ]
  },
  {
   "cell_type": "markdown",
   "metadata": {},
   "source": [
    "### 3. Convolutional Neural Networks Model"
   ]
  },
  {
   "cell_type": "code",
   "execution_count": 24,
   "metadata": {},
   "outputs": [],
   "source": [
    "class CNN(nn.Module):\n",
    "    def __init__(self):\n",
    "        super(CNN, self).__init__()\n",
    "        #input shape (1, 28, 28)\n",
    "        self.conv1 = nn.Sequential( \n",
    "            nn.Conv2d(\n",
    "                in_channels=1,      # input height\n",
    "                out_channels=16,    # n_filters\n",
    "                kernel_size=5,      # filter size\n",
    "                stride=1,           # filter movement/step\n",
    "                padding=2,      # 如果想要 con2d 出来的图片长宽没有变化, padding=(kernel_size-1)/2 当 stride=1\n",
    "            ),      # output shape (16, 28, 28)\n",
    "            nn.ReLU(),    # activation\n",
    "            nn.MaxPool2d(kernel_size=2),    # 在 2x2 空间里向下采样, output shape (16, 14, 14)\n",
    "        )\n",
    "        \n",
    "        self.conv2 = nn.Sequential(  # input shape (1, 28, 28)\n",
    "            nn.Conv2d(16, 32, 5, 1, 2),  # output shape (32, 14, 14)\n",
    "            nn.ReLU(),  # activation\n",
    "            nn.MaxPool2d(2),  # output shape (32, 7, 7)\n",
    "        )\n",
    "        self.out = nn.Linear(32 * 7 * 7, 10)   # fully connected layer, output 10 classes\n",
    " \n",
    "\n",
    "    def forward(self, x):\n",
    "        x = self.conv1(x)\n",
    "        x = self.conv2(x)\n",
    "        x = x.view(x.size(0), -1)   # 展平多维的卷积图成 (batch_size, 32 * 7 * 7)\n",
    "        output = self.out(x)\n",
    "        return output, x\n",
    " "
   ]
  },
  {
   "cell_type": "markdown",
   "metadata": {},
   "source": [
    "### 4. 训练模型 "
   ]
  },
  {
   "cell_type": "code",
   "execution_count": 37,
   "metadata": {},
   "outputs": [
    {
     "name": "stdout",
     "output_type": "stream",
     "text": [
      "============================== Model Architecture ==============================\n",
      "CNN(\n",
      "  (conv1): Sequential(\n",
      "    (0): Conv2d(1, 16, kernel_size=(5, 5), stride=(1, 1), padding=(2, 2))\n",
      "    (1): ReLU()\n",
      "    (2): MaxPool2d(kernel_size=2, stride=2, padding=0, dilation=1, ceil_mode=False)\n",
      "  )\n",
      "  (conv2): Sequential(\n",
      "    (0): Conv2d(16, 32, kernel_size=(5, 5), stride=(1, 1), padding=(2, 2))\n",
      "    (1): ReLU()\n",
      "    (2): MaxPool2d(kernel_size=2, stride=2, padding=0, dilation=1, ceil_mode=False)\n",
      "  )\n",
      "  (out): Linear(in_features=1568, out_features=10, bias=True)\n",
      ")\n"
     ]
    }
   ],
   "source": [
    "learning_rate = 0.001\n",
    "epochs = 1\n",
    "\n",
    "model = CNN()\n",
    "print('{} Model Architecture {}'.format('='*30, '='*30))\n",
    "print(model)  \n",
    "\n",
    "optimizer = torch.optim.Adam(model.parameters(), lr=learning_rate)   # optimize all cnn parameters\n",
    "loss_func = nn.CrossEntropyLoss()   # the target label is not one-hotted"
   ]
  },
  {
   "cell_type": "code",
   "execution_count": 38,
   "metadata": {},
   "outputs": [
    {
     "name": "stdout",
     "output_type": "stream",
     "text": [
      "============================== Training and Testing ==============================\n",
      "Epoch:  0 | train loss: 2.3067 | test accuracy: 0.12\n",
      "Epoch:  0 | train loss: 0.3834 | test accuracy: 0.86\n",
      "Epoch:  0 | train loss: 0.2560 | test accuracy: 0.94\n",
      "Epoch:  0 | train loss: 0.0468 | test accuracy: 0.94\n",
      "Epoch:  0 | train loss: 0.0872 | test accuracy: 0.97\n",
      "Epoch:  0 | train loss: 0.0397 | test accuracy: 0.97\n",
      "Epoch:  0 | train loss: 0.0369 | test accuracy: 0.97\n",
      "Epoch:  0 | train loss: 0.0272 | test accuracy: 0.97\n",
      "Epoch:  0 | train loss: 0.0627 | test accuracy: 0.97\n",
      "Epoch:  0 | train loss: 0.0457 | test accuracy: 0.96\n",
      "Epoch:  0 | train loss: 0.0641 | test accuracy: 0.98\n",
      "Epoch:  0 | train loss: 0.1443 | test accuracy: 0.98\n"
     ]
    }
   ],
   "source": [
    "# training and testing\n",
    "print('{} Training and Testing {}'.format('='*30, '='*30))\n",
    "for epoch in range(epochs):\n",
    "    for step, (batch_x, batch_y) in enumerate(train_loader):\n",
    "        output = model(batch_x)[0]              \n",
    "        loss = loss_func(output, batch_y)  \n",
    "        optimizer.zero_grad()        \n",
    "        loss.backward()               \n",
    "        optimizer.step()        \n",
    "        \n",
    "        if step % 100 == 0:\n",
    "            #测试数据\n",
    "            test_output, last_layer = model(test_x)\n",
    "            pred_y = torch.max(test_output, 1)[1].data.numpy()\n",
    "            accuracy = float((pred_y == test_y.data.numpy()).astype(int).sum())/float(test_y.size(0))\n",
    "            print('Epoch: ', epoch, '| train loss: %.4f' % loss.data.numpy(), '| test accuracy: %.2f' % accuracy)"
   ]
  },
  {
   "cell_type": "markdown",
   "metadata": {},
   "source": [
    "### 5. 测试 & 可视化"
   ]
  },
  {
   "cell_type": "code",
   "execution_count": 39,
   "metadata": {},
   "outputs": [
    {
     "name": "stdout",
     "output_type": "stream",
     "text": [
      "#predictions\t [7 2 1 0 4 1 4 9 5 9 0 6 9 0 1 5 9 7 3 4]\n",
      "#ground truth\t [7 2 1 0 4 1 4 9 5 9 0 6 9 0 1 5 9 7 3 4]\n"
     ]
    }
   ],
   "source": [
    "test_output, test_x_output = model(test_x)\n",
    "pred_y = torch.max(test_output, 1)[1].data.numpy()\n",
    "\n",
    "print('#predictions\\t', pred_y[:20])\n",
    "print('#ground truth\\t', test_y[:20].numpy())"
   ]
  },
  {
   "cell_type": "code",
   "execution_count": 45,
   "metadata": {},
   "outputs": [
    {
     "data": {
      "text/plain": [
       "(2000, 1568)"
      ]
     },
     "execution_count": 45,
     "metadata": {},
     "output_type": "execute_result"
    }
   ],
   "source": [
    "test_x_output.data.numpy().shape"
   ]
  },
  {
   "cell_type": "code",
   "execution_count": 44,
   "metadata": {},
   "outputs": [
    {
     "name": "stdout",
     "output_type": "stream",
     "text": [
      "#low_dim_embs.shape: (500, 2)\n",
      "#labels.shape: (500,)\n"
     ]
    }
   ],
   "source": [
    "from sklearn.manifold import TSNE\n",
    "\n",
    "# 降维\n",
    "tsne = TSNE(perplexity=30, \n",
    "            n_components=2, \n",
    "            init='pca', \n",
    "            n_iter=1000)\n",
    "\n",
    "plot_only = 500\n",
    "low_dim_embs = tsne.fit_transform(test_x_output.data.numpy()[:plot_only,:])\n",
    "labels = test_y.numpy()[:plot_only]\n",
    "\n",
    "print('#low_dim_embs.shape:', low_dim_embs.shape)\n",
    "print('#labels.shape:', labels.shape)"
   ]
  },
  {
   "cell_type": "code",
   "execution_count": 42,
   "metadata": {},
   "outputs": [
    {
     "data": {
      "image/png": "[encoded data removed]",
      "text/plain": [
       "<Figure size 432x288 with 1 Axes>"
      ]
     },
     "metadata": {
      "needs_background": "light"
     },
     "output_type": "display_data"
    }
   ],
   "source": [
    "import matplotlib.pyplot as plt\n",
    "from matplotlib import cm\n",
    "\n",
    "plt.cla()\n",
    "X, Y = low_dim_embs[:, 0], low_dim_embs[:, 1]\n",
    "for x, y, s in zip(X, Y, labels):\n",
    "    c = cm.rainbow(int(255*s/9)); \n",
    "    plt.text(x, y, s, backgroundcolor=c, fontsize=9)\n",
    "\n",
    "plt.xlim(X.min(), X.max()) \n",
    "plt.ylim(Y.min(), Y.max())\n",
    "plt.title('CNN-Visualize image with label')\n",
    "plt.show()\n",
    "plt.pause(0.01)"
   ]
  },
  {
   "cell_type": "code",
   "execution_count": null,
   "metadata": {},
   "outputs": [],
   "source": []
  }
 ],
 "metadata": {
  "kernelspec": {
   "display_name": "Python 3",
   "language": "python",
   "name": "python3"
  },
  "language_info": {
   "codemirror_mode": {
    "name": "ipython",
    "version": 3
   },
   "file_extension": ".py",
   "mimetype": "text/x-python",
   "name": "python",
   "nbconvert_exporter": "python",
   "pygments_lexer": "ipython3",
   "version": "3.7.4"
  }
 },
 "nbformat": 4,
 "nbformat_minor": 4
}
