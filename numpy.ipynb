{
 "cells": [
  {
   "cell_type": "markdown",
   "metadata": {},
   "source": [
    "pip install numpy "
   ]
  },
  {
   "cell_type": "code",
   "execution_count": 5,
   "metadata": {},
   "outputs": [],
   "source": [
    "import numpy as np"
   ]
  },
  {
   "cell_type": "markdown",
   "metadata": {},
   "source": [
    "# 1. numpy 创建"
   ]
  },
  {
   "cell_type": "code",
   "execution_count": 7,
   "metadata": {},
   "outputs": [
    {
     "data": {
      "text/plain": [
       "array([1, 2, 3])"
      ]
     },
     "execution_count": 7,
     "metadata": {},
     "output_type": "execute_result"
    }
   ],
   "source": [
    "# 一维\n",
    "np.array([1,2,3])"
   ]
  },
  {
   "cell_type": "code",
   "execution_count": 8,
   "metadata": {},
   "outputs": [
    {
     "data": {
      "text/plain": [
       "array([[1, 2, 3],\n",
       "       [4, 5, 6]])"
      ]
     },
     "execution_count": 8,
     "metadata": {},
     "output_type": "execute_result"
    }
   ],
   "source": [
    "# 二维\n",
    "np.array([[1,2,3],[4,5,6]])"
   ]
  },
  {
   "cell_type": "code",
   "execution_count": 2,
   "metadata": {},
   "outputs": [
    {
     "name": "stdout",
     "output_type": "stream",
     "text": [
      "(2, 2, 3)\n",
      "[[[ 1  2  3]\n",
      "  [ 4  5  6]]\n",
      "\n",
      " [[ 7  8  9]\n",
      "  [10 11 12]]]\n"
     ]
    }
   ],
   "source": [
    "# 三维\n",
    "a = np.array([[[1,2,3],[4,5,6]],[[7,8,9],[10,11,12]]])\n",
    "print(a.shape)\n",
    "print(a)"
   ]
  },
  {
   "cell_type": "code",
   "execution_count": 3,
   "metadata": {},
   "outputs": [
    {
     "name": "stdout",
     "output_type": "stream",
     "text": [
      "[[1. 1. 1. 1. 1.]\n",
      " [1. 1. 1. 1. 1.]\n",
      " [1. 1. 1. 1. 1.]\n",
      " [1. 1. 1. 1. 1.]]\n",
      "[[0. 0. 0. 0.]\n",
      " [0. 0. 0. 0.]\n",
      " [0. 0. 0. 0.]]\n"
     ]
    }
   ],
   "source": [
    "# 特殊值创建\n",
    "print(np.ones((4,5)))\n",
    "print(np.zeros((3,4)))"
   ]
  },
  {
   "cell_type": "code",
   "execution_count": 12,
   "metadata": {},
   "outputs": [
    {
     "name": "stdout",
     "output_type": "stream",
     "text": [
      "[[1 1 1]\n",
      " [1 1 1]]\n",
      "[[0 0 0]\n",
      " [0 0 0]]\n"
     ]
    }
   ],
   "source": [
    "a = np.array([[4,2,3],[6,7,8]])\n",
    "print(np.ones_like(a)) # 以相同的shape生成一个全1矩阵\n",
    "print(np.zeros_like(a)) # 以相同的shape生成一个全0矩阵"
   ]
  },
  {
   "cell_type": "code",
   "execution_count": 4,
   "metadata": {},
   "outputs": [
    {
     "name": "stdout",
     "output_type": "stream",
     "text": [
      "[ 0  1  2  3  4  5  6  7  8  9 10 11 12 13 14]\n",
      "[ 3  5  7  9 11 13]\n"
     ]
    }
   ],
   "source": [
    "print(np.arange(15))\n",
    "print(np.arange(3,15,2))"
   ]
  },
  {
   "cell_type": "code",
   "execution_count": 14,
   "metadata": {},
   "outputs": [
    {
     "name": "stdout",
     "output_type": "stream",
     "text": [
      "[[1. 0. 0.]\n",
      " [0. 1. 0.]\n",
      " [0. 0. 1.]]\n"
     ]
    }
   ],
   "source": [
    "print(np.eye(3)) # 单位矩阵"
   ]
  },
  {
   "cell_type": "markdown",
   "metadata": {},
   "source": [
    "# 2. numpy 基本使用"
   ]
  },
  {
   "cell_type": "code",
   "execution_count": 15,
   "metadata": {},
   "outputs": [
    {
     "name": "stdout",
     "output_type": "stream",
     "text": [
      "2\n",
      "(3, 4)\n",
      "[[ 1  2  3  4]\n",
      " [ 4  5  6  7]\n",
      " [ 7  8  9 10]]\n",
      "[[ 1  4  7]\n",
      " [ 2  5  8]\n",
      " [ 3  6  9]\n",
      " [ 4  7 10]]\n"
     ]
    }
   ],
   "source": [
    "a = np.array([[1,2,3,4],[4,5,6,7],[7,8,9,10]])\n",
    "print(a.ndim) # 获取矩阵维度\n",
    "print(a.shape) # 获取矩阵大小\n",
    "print(a)\n",
    "print(a.T) # 矩阵转置"
   ]
  },
  {
   "cell_type": "code",
   "execution_count": 18,
   "metadata": {},
   "outputs": [
    {
     "name": "stdout",
     "output_type": "stream",
     "text": [
      "[[1 2 3]\n",
      " [4 5 6]]\n",
      "reshape:\n",
      "[[1 2]\n",
      " [3 4]\n",
      " [5 6]]\n",
      "transpose:\n",
      "[[1 4]\n",
      " [2 5]\n",
      " [3 6]]\n"
     ]
    }
   ],
   "source": [
    "a = np.array([[1,2,3],[4,5,6]])\n",
    "print(a)\n",
    "\n",
    "print('reshape:')\n",
    "print(a.reshape(3,2)) # 修改矩阵形状, 与转置不同\n",
    "\n",
    "print('transpose:')\n",
    "print(a.T)"
   ]
  },
  {
   "cell_type": "markdown",
   "metadata": {},
   "source": [
    "# 3. numpy 数据类型\n",
    "* int8, uint8         有／无符号的8位整型\n",
    "* int16, uint16     有／无符号的16位整型\n",
    "* int32, uint32   有／无符号的32位整型\n",
    "* int64, uint64       有／无符号的64位整型\n",
    "* float16                  半精度浮点数\n",
    "* float32           标准的单精度浮点数，与C的float兼容。\n",
    "* float64           标准的双精度浮点数。与C的double和Python的float兼容。\n",
    "* float128 g          扩展精度浮点数\n",
    "* complex64/128/256 -c8/16/32  分别用两个32位，64位或128位浮点数表示的复数。\n",
    "* bool                  存储True和False值的布尔类型\n",
    "* object                   Python对象类型\n",
    "* string_                 固定长度的字符串类型。S10代表长度为10的字符串。\n",
    "* unicode_                固定长度的unicode类型"
   ]
  },
  {
   "cell_type": "code",
   "execution_count": 6,
   "metadata": {},
   "outputs": [
    {
     "name": "stdout",
     "output_type": "stream",
     "text": [
      "[[1 2 3]\n",
      " [4 5 6]] int64\n",
      "[[1 2 3]\n",
      " [4 5 6]] int64\n",
      "[[1.5 3.  4.5]\n",
      " [6.  7.5 9. ]] float64\n"
     ]
    }
   ],
   "source": [
    "a1 = np.array([[1,2,3],[4,5,6]])\n",
    "print(a1, a1.dtype)\n",
    "\n",
    "a1[0,0] = 1.5\n",
    "print(a1, a1.dtype)\n",
    "\n",
    "a1 = a1 * 1.5\n",
    "print(a1, a1.dtype)"
   ]
  },
  {
   "cell_type": "code",
   "execution_count": 9,
   "metadata": {},
   "outputs": [
    {
     "name": "stdout",
     "output_type": "stream",
     "text": [
      "[[1. 2. 3.]\n",
      " [4. 5. 6.]] float32\n",
      "[[1.5 2.  3. ]\n",
      " [4.  5.  6. ]] float32\n"
     ]
    }
   ],
   "source": [
    "a2 = np.array([[1,2,3],[4,5,6]], dtype='float32')\n",
    "print(a2, a2.dtype)\n",
    "\n",
    "a2[0,0] = 1.5\n",
    "print(a2, a2.dtype)"
   ]
  },
  {
   "cell_type": "code",
   "execution_count": 10,
   "metadata": {},
   "outputs": [
    {
     "name": "stdout",
     "output_type": "stream",
     "text": [
      "[1.2 2.4 3.7] float64\n",
      "[1 2 3] int64\n"
     ]
    }
   ],
   "source": [
    "a3 = np.array([1.2,2.4,3.7])\n",
    "print(a3, a3.dtype)\n",
    "\n",
    "a3 = a3.astype(np.int)\n",
    "print(a3, a3.dtype)"
   ]
  },
  {
   "cell_type": "markdown",
   "metadata": {},
   "source": [
    "# 4. numpy 常用计算"
   ]
  },
  {
   "cell_type": "code",
   "execution_count": 12,
   "metadata": {},
   "outputs": [
    {
     "name": "stdout",
     "output_type": "stream",
     "text": [
      "[ 4  8 10]\n",
      "[ 3 12 21]\n",
      "[3 4 5]\n",
      "[2 4 6]\n"
     ]
    }
   ],
   "source": [
    "x = np.array([1,2,3])\n",
    "y = np.array([3,6,7])\n",
    "print(x + y)\n",
    "print(x * y)\n",
    "print(x + 2)\n",
    "print(x * 2)"
   ]
  },
  {
   "cell_type": "code",
   "execution_count": 28,
   "metadata": {},
   "outputs": [
    {
     "name": "stdout",
     "output_type": "stream",
     "text": [
      "[ 0.00000000e+00  1.00000000e+00 -2.06823107e-13 -1.00000000e+00]\n",
      "[ 1.00000000e+00 -1.03411554e-13 -1.00000000e+00  3.10678750e-13]\n",
      "[ 0.00000000e+00 -9.67009938e+12  2.06823107e-13 -3.21875893e+12]\n",
      "[ 1.57079633  0.         -1.57079633]\n",
      "[0.         1.57079633 3.14159265]\n",
      "[ 0.78539816  0.         -0.78539816]\n"
     ]
    }
   ],
   "source": [
    "# 三角函数\n",
    "pi = 3.14159265359\n",
    "x = np.array([0,0.5*pi,1*pi,1.5*pi])\n",
    "y = np.array([1,0,-1])\n",
    "\n",
    "print(np.sin(x))\n",
    "print(np.cos(x))\n",
    "print(np.tan(x))\n",
    "\n",
    "print(np.arcsin(y))\n",
    "print(np.arccos(y))\n",
    "print(np.arctan(y))"
   ]
  },
  {
   "cell_type": "code",
   "execution_count": 29,
   "metadata": {},
   "outputs": [
    {
     "name": "stdout",
     "output_type": "stream",
     "text": [
      "[0.         1.         1.41421356 1.73205081 2.        ]\n",
      "[ 1.          2.71828183  7.3890561  20.08553692 54.59815003]\n",
      "[ 0  1  4  9 16]\n"
     ]
    }
   ],
   "source": [
    "a = np.array([0,1,2,3,4])\n",
    "print(np.sqrt(a)) # 开根号\n",
    "print(np.exp(a)) # 指数运算 e^x\n",
    "print(a ** 2) # 平方"
   ]
  },
  {
   "cell_type": "code",
   "execution_count": 34,
   "metadata": {},
   "outputs": [
    {
     "name": "stdout",
     "output_type": "stream",
     "text": [
      "[3 2 9 4]\n"
     ]
    }
   ],
   "source": [
    "# 获取最大值\n",
    "a = np.array([1,2,3,4])\n",
    "b = np.array([3,1,9,2])\n",
    "print(np.maximum(a,b))"
   ]
  },
  {
   "cell_type": "markdown",
   "metadata": {},
   "source": [
    "## 5. 矩阵乘法"
   ]
  },
  {
   "cell_type": "code",
   "execution_count": 19,
   "metadata": {},
   "outputs": [
    {
     "name": "stdout",
     "output_type": "stream",
     "text": [
      "[[40 46]\n",
      " [76 88]]\n"
     ]
    }
   ],
   "source": [
    "a1 = np.array([[1,2,3],[3,4,5]]) # 2x3矩阵\n",
    "a2 = np.array([[4,5],[6,7],[8,9]]) # 3x2矩阵\n",
    "if (a1.shape[1] == a2.shape[0]): # 判断矩阵乘法条件\n",
    "    print(a1.dot(a2)) # 注意与 * 区分"
   ]
  },
  {
   "cell_type": "code",
   "execution_count": 20,
   "metadata": {},
   "outputs": [
    {
     "name": "stdout",
     "output_type": "stream",
     "text": [
      "[[ 1  4]\n",
      " [ 9 16]]\n",
      "[[ 7 10]\n",
      " [15 22]]\n"
     ]
    }
   ],
   "source": [
    "x1 = np.array([[1,2],[3,4]])\n",
    "x2 = np.array([[1,2],[3,4]])\n",
    "print(x1 * x2)\n",
    "print(x1.dot(x2))"
   ]
  },
  {
   "cell_type": "code",
   "execution_count": 21,
   "metadata": {},
   "outputs": [
    {
     "name": "stdout",
     "output_type": "stream",
     "text": [
      "[[1 2]\n",
      " [3 4]]\n",
      "[[-2.   1. ]\n",
      " [ 1.5 -0.5]]\n",
      "[[1.0000000e+00 0.0000000e+00]\n",
      " [8.8817842e-16 1.0000000e+00]]\n"
     ]
    }
   ],
   "source": [
    "# 求逆矩阵\n",
    "a = np.array([[1,2],[3,4]])\n",
    "inv_a = np.linalg.inv(a)\n",
    "print(a)\n",
    "print(inv_a)\n",
    "print(a.dot(inv_a))"
   ]
  },
  {
   "cell_type": "code",
   "execution_count": 35,
   "metadata": {},
   "outputs": [
    {
     "name": "stdout",
     "output_type": "stream",
     "text": [
      "1\n",
      "6\n",
      "[1 2 3]\n",
      "[5 6]\n",
      "[1 2]\n"
     ]
    }
   ],
   "source": [
    "# 最大/小值\n",
    "a = np.array([[1,5,3],[4,2,6]])\n",
    "print(a.min())\n",
    "print(a.max())\n",
    "\n",
    "# 每列最小值, axis=0 对行(第0维)进行比较\n",
    "print(a.min(axis=0)) \n",
    "# 每行最大值 axis=1 对列(第1维)进行比较\n",
    "print(a.max(axis=1)) \n",
    "# 获取每行最大数值所在位置 \n",
    "print(a.argmax(axis=1))"
   ]
  },
  {
   "cell_type": "code",
   "execution_count": 23,
   "metadata": {},
   "outputs": [
    {
     "name": "stdout",
     "output_type": "stream",
     "text": [
      "4.0\n",
      "[1.5 4.  6.5]\n",
      "[3.33333333 4.66666667]\n"
     ]
    }
   ],
   "source": [
    "# 平均值\n",
    "a = np.array([[1,3,6],[2,5,7]])\n",
    "print(a.mean())\n",
    "print(a.mean(axis=0)) # 计算每列平均值\n",
    "print(a.mean(axis=1)) # 计算每行平均值"
   ]
  },
  {
   "cell_type": "code",
   "execution_count": 24,
   "metadata": {},
   "outputs": [
    {
     "name": "stdout",
     "output_type": "stream",
     "text": [
      "2.9166666666666665\n",
      "[2.25 2.25 2.25]\n",
      "[0.66666667 0.66666667]\n"
     ]
    }
   ],
   "source": [
    "# 方差\n",
    "# 相当于 np.mean(np.abs(x - x.mean())**2)\n",
    "a = np.array([[1,2,3],[4,5,6]])\n",
    "print(a.var()) \n",
    "print(a.var(axis=0)) # 计算每行方差\n",
    "print(a.var(axis=1)) # 计算每列方差"
   ]
  },
  {
   "cell_type": "code",
   "execution_count": 25,
   "metadata": {},
   "outputs": [
    {
     "name": "stdout",
     "output_type": "stream",
     "text": [
      "1.707825127659933\n",
      "[1.5 1.5 1.5]\n",
      "[0.81649658 0.81649658]\n"
     ]
    }
   ],
   "source": [
    "# 标准差\n",
    "# 相当于 np.sqrt(np.mean(np.abs(x - x.mean())**2))\n",
    "a = np.array([[1,2,3],[4,5,6]])\n",
    "print(a.std())\n",
    "print(a.std(axis=0))\n",
    "print(a.std(axis=1))"
   ]
  },
  {
   "cell_type": "code",
   "execution_count": 26,
   "metadata": {},
   "outputs": [
    {
     "name": "stdout",
     "output_type": "stream",
     "text": [
      "21\n",
      "[5 7 9]\n",
      "[ 6 15]\n"
     ]
    }
   ],
   "source": [
    "# 求和\n",
    "a = np.array([[1,2,3],[4,5,6]])\n",
    "print(a.sum())\n",
    "print(a.sum(axis=0))\n",
    "print(a.sum(axis=1))"
   ]
  },
  {
   "cell_type": "code",
   "execution_count": 27,
   "metadata": {},
   "outputs": [
    {
     "name": "stdout",
     "output_type": "stream",
     "text": [
      "[1 2 3 4]\n"
     ]
    }
   ],
   "source": [
    "# 去重\n",
    "a = np.array([1,2,1,4,2,3])\n",
    "print(np.unique(a))"
   ]
  },
  {
   "cell_type": "markdown",
   "metadata": {},
   "source": [
    "# 5. 矩阵截取 & 合并"
   ]
  },
  {
   "cell_type": "code",
   "execution_count": 39,
   "metadata": {},
   "outputs": [
    {
     "name": "stdout",
     "output_type": "stream",
     "text": [
      "a.shape: (3, 3)\n",
      "[[1 2 3]\n",
      " [4 5 6]\n",
      " [7 8 9]]\n",
      "\n",
      "[[1 2 3]\n",
      " [4 5 6]]\n",
      "[[2 3]\n",
      " [5 6]\n",
      " [8 9]]\n",
      "[1 2 3]\n",
      "[3 6 9]\n",
      "6\n"
     ]
    }
   ],
   "source": [
    "# 行列截取\n",
    "a = np.array([[1,2,3],[4,5,6],[7,8,9]])\n",
    "print('a.shape:', a.shape)\n",
    "print(a)\n",
    "print()\n",
    "print(a[:2,:]) # 获取前2行 : 2维\n",
    "print(a[:,-2:]) # 获取后2列 ： 2维\n",
    "print(a[0,:]) # 获取第0行 : 1维\n",
    "print(a[:,2]) # 获取第2行 : 1维\n",
    "print(a[1,2]) # 获取第二行，第三列的数值 ： 数值"
   ]
  },
  {
   "cell_type": "code",
   "execution_count": 45,
   "metadata": {},
   "outputs": [
    {
     "name": "stdout",
     "output_type": "stream",
     "text": [
      "---------- b>2 ----------\n",
      "[ True False  True False  True]\n",
      "--------- b[b>2] ---------\n",
      "[3 9 3]\n",
      "(array([0, 2, 4]),)\n",
      "[0 1 0 2 0]\n",
      "[0 1 0 2 0]\n"
     ]
    }
   ],
   "source": [
    "# 条件截取\n",
    "b = np.array([3,1,9,2,3])\n",
    "c = b.copy()\n",
    "\n",
    "# 数组中大于2的数的值\n",
    "print('---------- b>2 ----------')\n",
    "print(b>2)\n",
    "print('--------- b[b>2] ---------')\n",
    "print(b[b>2])\n",
    "\n",
    "# 数组中大于2的数的序号\n",
    "index = np.where(b>2)\n",
    "print(index)\n",
    "\n",
    "# 将数组中大于2的数变为0\n",
    "b[index] = 0\n",
    "print(b)\n",
    "c[c>2] = 0\n",
    "print(c)"
   ]
  },
  {
   "cell_type": "code",
   "execution_count": 46,
   "metadata": {},
   "outputs": [
    {
     "name": "stdout",
     "output_type": "stream",
     "text": [
      "[[ 1  2  3  7  8  9]\n",
      " [ 4  5  6 10 11 12]]\n",
      "[[ 1  2  3]\n",
      " [ 4  5  6]\n",
      " [ 7  8  9]\n",
      " [10 11 12]]\n"
     ]
    }
   ],
   "source": [
    "# 矩阵合并\n",
    "a1 = np.array([[1,2,3],[4,5,6]])\n",
    "a2 = np.array([[7,8,9],[10,11,12]])\n",
    "\n",
    "# 横向合并\n",
    "print(np.hstack([a1,a2]))\n",
    "\n",
    "# 纵向合并\n",
    "print(np.vstack([a1,a2]))"
   ]
  },
  {
   "cell_type": "code",
   "execution_count": null,
   "metadata": {},
   "outputs": [],
   "source": []
  }
 ],
 "metadata": {
  "kernelspec": {
   "display_name": "Python 3",
   "language": "python",
   "name": "python3"
  },
  "language_info": {
   "codemirror_mode": {
    "name": "ipython",
    "version": 3
   },
   "file_extension": ".py",
   "mimetype": "text/x-python",
   "name": "python",
   "nbconvert_exporter": "python",
   "pygments_lexer": "ipython3",
   "version": "3.7.4"
  }
 },
 "nbformat": 4,
 "nbformat_minor": 4
}
